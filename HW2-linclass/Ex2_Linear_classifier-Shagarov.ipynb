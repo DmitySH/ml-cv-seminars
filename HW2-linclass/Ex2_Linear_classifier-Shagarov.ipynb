{
 "nbformat": 4,
 "nbformat_minor": 0,
 "metadata": {
  "colab": {
   "provenance": []
  },
  "kernelspec": {
   "name": "python3",
   "display_name": "Python 3"
  }
 },
 "cells": [
  {
   "cell_type": "markdown",
   "metadata": {
    "id": "BlRBhMZtdf94",
    "pycharm": {
     "name": "#%% md\n"
    }
   },
   "source": [
    "# Download dataset with Pytorch\n",
    "\n"
   ]
  },
  {
   "cell_type": "markdown",
   "metadata": {
    "id": "BNE5Qqw_rdsV",
    "pycharm": {
     "name": "#%% md\n"
    }
   },
   "source": [
    "## Load the data"
   ]
  },
  {
   "cell_type": "code",
   "execution_count": 55,
   "outputs": [],
   "source": [
    "import random\n",
    "\n",
    "import torch\n",
    "from torchvision import models, datasets, transforms\n",
    "from torch.utils.data import DataLoader, random_split\n",
    "import numpy as np\n",
    "from PIL import Image\n",
    "\n",
    "def set_random_seed(seed):\n",
    "    torch.backends.cudnn.deterministic = True\n",
    "    torch.manual_seed(seed)\n",
    "    torch.cuda.manual_seed(seed)\n",
    "    np.random.seed(seed)\n",
    "    random.seed(seed)"
   ],
   "metadata": {
    "collapsed": false,
    "pycharm": {
     "name": "#%%\n"
    }
   }
  },
  {
   "cell_type": "code",
   "metadata": {
    "id": "vKAZ-aQtrg8q",
    "colab": {
     "base_uri": "https://localhost:8080/"
    },
    "outputId": "524ef476-97e6-46a7-8fa2-269f6427bc30",
    "pycharm": {
     "name": "#%%\n"
    }
   },
   "source": [
    "set_random_seed(143)\n",
    "# Define transformation for each image\n",
    "transform = transforms.Compose([\n",
    "    # transforms.ToTensor(),\n",
    "    # transforms.Normalize((0.5, 0.5, 0.5), (0.5, 0.5, 0.5)),\n",
    "    transforms.Lambda(lambda x: np.array(x).flatten())  #Stretch image into row [32,32,3] -> [3072]\n",
    "])\n",
    "\n",
    "# Download a CIFAR10 dataset\n",
    "dataset = datasets.CIFAR10(\"/datasets\",\n",
    "                           train=True,\n",
    "                           transform=transform,\n",
    "                           download=True)"
   ],
   "execution_count": 56,
   "outputs": [
    {
     "name": "stdout",
     "output_type": "stream",
     "text": [
      "Files already downloaded and verified\n"
     ]
    }
   ]
  },
  {
   "cell_type": "markdown",
   "metadata": {
    "id": "I3F4IoDErlcw",
    "pycharm": {
     "name": "#%% md\n"
    }
   },
   "source": [
    "## Split dataset & define dataloaders"
   ]
  },
  {
   "cell_type": "code",
   "metadata": {
    "id": "Fu02DmABYxoh",
    "colab": {
     "base_uri": "https://localhost:8080/",
     "height": 84
    },
    "outputId": "e49f2b3d-f2bb-4a49-ece7-8d0ec4aa4e3f",
    "pycharm": {
     "name": "#%%\n"
    }
   },
   "source": [
    "train_ds, val_ds, _ = random_split(dataset, [20000, 1000, 29000])\n",
    "# Hint: Perform debug on smaller subset\n",
    "\n",
    "batch_size = 256\n",
    "\n",
    "train_loader = DataLoader(train_ds, batch_size=batch_size)\n",
    "val_loader = DataLoader(val_ds, batch_size=batch_size)\n",
    "\n",
    "# Display one image\n",
    "for images, class_nums in train_loader:\n",
    "    print(images.shape, class_nums.shape)  # class_nums are tensor!\n",
    "    print(images[0])\n",
    "    display(Image.fromarray(images[0].reshape((32, 32, 3)).numpy()).resize(size=(100, 100)), class_nums[0].item())\n",
    "    break\n"
   ],
   "execution_count": 57,
   "outputs": [
    {
     "name": "stdout",
     "output_type": "stream",
     "text": [
      "torch.Size([256, 3072]) torch.Size([256])\n",
      "tensor([ 86,  87,  75,  ..., 171, 202, 225], dtype=torch.uint8)\n"
     ]
    },
    {
     "data": {
      "text/plain": "<PIL.Image.Image image mode=RGB size=100x100>",
      "image/png": "[encoded data removed]"
     },
     "metadata": {},
     "output_type": "display_data"
    },
    {
     "data": {
      "text/plain": "3"
     },
     "metadata": {},
     "output_type": "display_data"
    }
   ]
  },
  {
   "cell_type": "markdown",
   "metadata": {
    "id": "GqC6xXhSeUPr",
    "pycharm": {
     "name": "#%% md\n"
    }
   },
   "source": [
    "# Implement LinearClassifier class for CIFAR10"
   ]
  },
  {
   "cell_type": "markdown",
   "source": [],
   "metadata": {
    "collapsed": false,
    "pycharm": {
     "name": "#%% md\n"
    }
   }
  },
  {
   "cell_type": "markdown",
   "source": [
    "Реализация с 2 и 1 циклами"
   ],
   "metadata": {
    "collapsed": false,
    "pycharm": {
     "name": "#%% md\n"
    }
   }
  },
  {
   "cell_type": "code",
   "execution_count": 58,
   "outputs": [],
   "source": [
    "# Two cycle imp\n",
    "\n",
    "# loss = 0.0\n",
    "# dW1 = np.zeros(self.W.shape)\n",
    "#\n",
    "# for i in range(len(X)):\n",
    "#     scores = X[i].dot(self.W)\n",
    "#     fine_class_score = scores[int(y[i])]\n",
    "#\n",
    "#     above_zero_count = 0\n",
    "#     for j in range(self.classes_num):\n",
    "#         if j == int(y[i]):\n",
    "#             continue\n",
    "#\n",
    "#         margin = scores[j] - fine_class_score + self.margin_delta\n",
    "#         if margin > 0:\n",
    "#             above_zero_count += 1\n",
    "#             loss += margin\n",
    "#             dW1[:, j] += X[i]\n",
    "#\n",
    "#     dW1[:, y[i]] -= above_zero_count * X[i]\n",
    "#\n",
    "# loss /= len(X)\n",
    "# print(loss)\n",
    "\n",
    "# print(np.sum(dW, axis=0))\n",
    "\n",
    "# One cycle imp\n",
    "\n",
    "# loss = 0\n",
    "# dW = np.zeros(self.W.shape)\n",
    "#\n",
    "# for i in range(5):\n",
    "#     scores = X[i].dot(self.W)\n",
    "#     margins = np.maximum(0, scores - scores[y[i]] + self.margin_delta)\n",
    "#     margins[y[i]] = 0\n",
    "#\n",
    "#     non_zero_margins = margins != 0\n",
    "#     incorrect_count = non_zero_margins.sum()\n",
    "#     dW[:, non_zero_margins] += X[i].reshape(-1, 1)\n",
    "#     dW[:, y[i]] -= incorrect_count * X[i]\n",
    "#\n",
    "#     loss += np.sum(margins)\n",
    "#\n",
    "#\n",
    "# loss /= len(X)\n",
    "# print(loss)\n",
    "# print(np.sum(dW, axis=0))\n"
   ],
   "metadata": {
    "collapsed": false,
    "pycharm": {
     "name": "#%%\n"
    }
   }
  },
  {
   "cell_type": "markdown",
   "source": [
    "Реализация без циклов"
   ],
   "metadata": {
    "collapsed": false,
    "pycharm": {
     "name": "#%% md\n"
    }
   }
  },
  {
   "cell_type": "code",
   "metadata": {
    "id": "vaxIJUM7eQUp",
    "pycharm": {
     "name": "#%%\n"
    }
   },
   "source": [
    "from numpy import linalg as LA\n",
    "\n",
    "class LinearClassifier:\n",
    "    def __init__(self, labels, margin_delta=20, l2_coef=0.1, lr=2e-9):\n",
    "        self.margin_delta = margin_delta\n",
    "        self.labels = labels\n",
    "        self.classes_num = len(labels)\n",
    "        # Generate a random weight matrix of small numbers\n",
    "        # You can change this code\n",
    "        self.W = np.random.randn(3073, self.classes_num) * 0.0001\n",
    "        self.l2_coef = l2_coef\n",
    "        self.lr = lr\n",
    "\n",
    "    def train(self, X_batch, y_batch):\n",
    "        \"\"\"\n",
    "          Arguments:\n",
    "            x  (numpy.array): collection of objects (batch)\n",
    "            y  (numpy.array): collection of integer\n",
    "            representing a class number for objects from x\n",
    "        \"\"\"\n",
    "        X_batch = self._add_ones(X_batch)\n",
    "        loss_val, grad = self.loss(X_batch, y_batch)\n",
    "        self.W -= self.lr * grad\n",
    "\n",
    "        return loss_val / X_batch.shape[0]\n",
    "\n",
    "    def loss(self, X, y):  # x and y are batches\n",
    "        \"\"\"\n",
    "          Arguments:\n",
    "            x  (numpy.array): collection of objects (batch)\n",
    "            y  (numpy.array): collection of integer\n",
    "            representing a class number for objects from x\n",
    "\n",
    "        \"\"\"\n",
    "\n",
    "        # Zero!! cycle imp\n",
    "\n",
    "        scores = X.dot(self.W)\n",
    "        margins = np.maximum(0, scores - scores[np.arange(len(scores)), y].reshape(-1, 1) + self.margin_delta)\n",
    "        margins[np.arange(len(margins)), y] = 0\n",
    "        loss = np.sum(margins) / len(X) + LA.norm(self.W)\n",
    "        margins[margins > 0] = 1\n",
    "        # Use count of incorrect by row\n",
    "\n",
    "        margins[np.arange(len(margins)), y] = -np.sum(margins, axis=1).T # To (256, 1)\n",
    "        dW = np.dot(X.T, margins) + 2 * self.l2_coef * self.W\n",
    "\n",
    "        return loss, dW\n",
    "\n",
    "    def _add_ones(self, X):\n",
    "        return np.hstack([X, np.ones((X.shape[0], 1))])\n",
    "\n",
    "    def predict(self, X):\n",
    "        X = self._add_ones(X)\n",
    "        scores = X.dot(self.W)  # (256, 3073) * (3073, 10)\n",
    "        return np.argmax(scores, axis=1)"
   ],
   "execution_count": 59,
   "outputs": []
  },
  {
   "cell_type": "markdown",
   "metadata": {
    "id": "cyVPgrr5xjhU",
    "pycharm": {
     "name": "#%% md\n"
    }
   },
   "source": [
    "# Train model"
   ]
  },
  {
   "cell_type": "markdown",
   "metadata": {
    "id": "v5zVN1kHd43W",
    "pycharm": {
     "name": "#%% md\n"
    }
   },
   "source": [
    "## Function for accuracy checking\n",
    "\n",
    "Don't change this code"
   ]
  },
  {
   "cell_type": "code",
   "metadata": {
    "id": "dzhRClCsdzJw",
    "pycharm": {
     "name": "#%%\n"
    }
   },
   "source": [
    "from sklearn.metrics import accuracy_score\n",
    "\n",
    "\n",
    "def validate(model, dataloader):\n",
    "    y_predicted = np.array([])\n",
    "    y_gtrue = np.array([])\n",
    "    for images, class_nums in dataloader:\n",
    "        index = model.predict(images.numpy())\n",
    "        y_predicted = np.append(y_predicted, index)\n",
    "        y_gtrue = np.append(y_gtrue, class_nums.numpy())\n",
    "    return accuracy_score(y_gtrue, y_predicted)"
   ],
   "execution_count": 60,
   "outputs": []
  },
  {
   "cell_type": "markdown",
   "metadata": {
    "id": "HQr1qYUlxq7X",
    "pycharm": {
     "name": "#%% md\n"
    }
   },
   "source": [
    "## Train loop\n",
    "Let's train our model"
   ]
  },
  {
   "cell_type": "code",
   "metadata": {
    "id": "phcDEj7OdpGS",
    "pycharm": {
     "name": "#%%\n"
    }
   },
   "source": [
    "import tqdm\n",
    "\n",
    "model = LinearClassifier(dataset.classes)\n",
    "best_accuracy = 0\n",
    "for epoch in range(25):\n",
    "    for images, class_nums in tqdm.tqdm(train_loader):\n",
    "        loss = model.train(images.numpy(), class_nums.numpy())\n",
    "        accuracy = validate(model, val_loader)\n",
    "    if best_accuracy < accuracy:\n",
    "        best_accuracy = accuracy\n",
    "    print(f\"Epoch {epoch} Loss: {loss}, Accuracy:{accuracy}\")\n",
    "\n",
    "print(f\"Best accuracy is {best_accuracy}\")"
   ],
   "execution_count": 61,
   "outputs": [
    {
     "name": "stderr",
     "output_type": "stream",
     "text": [
      "100%|██████████| 79/79 [00:06<00:00, 12.70it/s]\n"
     ]
    },
    {
     "name": "stdout",
     "output_type": "stream",
     "text": [
      "Epoch 0 Loss: 2.947315086231087, Accuracy:0.293\n"
     ]
    },
    {
     "name": "stderr",
     "output_type": "stream",
     "text": [
      "100%|██████████| 79/79 [00:06<00:00, 12.98it/s]\n"
     ]
    },
    {
     "name": "stdout",
     "output_type": "stream",
     "text": [
      "Epoch 1 Loss: 2.6625195212049695, Accuracy:0.31\n"
     ]
    },
    {
     "name": "stderr",
     "output_type": "stream",
     "text": [
      "100%|██████████| 79/79 [00:06<00:00, 12.98it/s]\n"
     ]
    },
    {
     "name": "stdout",
     "output_type": "stream",
     "text": [
      "Epoch 2 Loss: 2.547583252424404, Accuracy:0.317\n"
     ]
    },
    {
     "name": "stderr",
     "output_type": "stream",
     "text": [
      "100%|██████████| 79/79 [00:06<00:00, 13.03it/s]\n"
     ]
    },
    {
     "name": "stdout",
     "output_type": "stream",
     "text": [
      "Epoch 3 Loss: 2.47777548845732, Accuracy:0.315\n"
     ]
    },
    {
     "name": "stderr",
     "output_type": "stream",
     "text": [
      "100%|██████████| 79/79 [00:06<00:00, 12.98it/s]\n"
     ]
    },
    {
     "name": "stdout",
     "output_type": "stream",
     "text": [
      "Epoch 4 Loss: 2.41461329800527, Accuracy:0.32\n"
     ]
    },
    {
     "name": "stderr",
     "output_type": "stream",
     "text": [
      "100%|██████████| 79/79 [00:06<00:00, 12.92it/s]\n"
     ]
    },
    {
     "name": "stdout",
     "output_type": "stream",
     "text": [
      "Epoch 5 Loss: 2.3939019457877686, Accuracy:0.32\n"
     ]
    },
    {
     "name": "stderr",
     "output_type": "stream",
     "text": [
      "100%|██████████| 79/79 [00:06<00:00, 12.96it/s]\n"
     ]
    },
    {
     "name": "stdout",
     "output_type": "stream",
     "text": [
      "Epoch 6 Loss: 2.3745542750154924, Accuracy:0.32\n"
     ]
    },
    {
     "name": "stderr",
     "output_type": "stream",
     "text": [
      "100%|██████████| 79/79 [00:06<00:00, 12.91it/s]\n"
     ]
    },
    {
     "name": "stdout",
     "output_type": "stream",
     "text": [
      "Epoch 7 Loss: 2.352883812996582, Accuracy:0.322\n"
     ]
    },
    {
     "name": "stderr",
     "output_type": "stream",
     "text": [
      "100%|██████████| 79/79 [00:06<00:00, 12.96it/s]\n"
     ]
    },
    {
     "name": "stdout",
     "output_type": "stream",
     "text": [
      "Epoch 8 Loss: 2.3280352026606583, Accuracy:0.326\n"
     ]
    },
    {
     "name": "stderr",
     "output_type": "stream",
     "text": [
      "100%|██████████| 79/79 [00:06<00:00, 12.88it/s]\n"
     ]
    },
    {
     "name": "stdout",
     "output_type": "stream",
     "text": [
      "Epoch 9 Loss: 2.3249279173534845, Accuracy:0.33\n"
     ]
    },
    {
     "name": "stderr",
     "output_type": "stream",
     "text": [
      "100%|██████████| 79/79 [00:06<00:00, 12.91it/s]\n"
     ]
    },
    {
     "name": "stdout",
     "output_type": "stream",
     "text": [
      "Epoch 10 Loss: 2.3147814914461113, Accuracy:0.328\n"
     ]
    },
    {
     "name": "stderr",
     "output_type": "stream",
     "text": [
      "100%|██████████| 79/79 [00:06<00:00, 12.86it/s]\n"
     ]
    },
    {
     "name": "stdout",
     "output_type": "stream",
     "text": [
      "Epoch 11 Loss: 2.3046153297776004, Accuracy:0.327\n"
     ]
    },
    {
     "name": "stderr",
     "output_type": "stream",
     "text": [
      "100%|██████████| 79/79 [00:06<00:00, 12.76it/s]\n"
     ]
    },
    {
     "name": "stdout",
     "output_type": "stream",
     "text": [
      "Epoch 12 Loss: 2.297151820220468, Accuracy:0.327\n"
     ]
    },
    {
     "name": "stderr",
     "output_type": "stream",
     "text": [
      "100%|██████████| 79/79 [00:06<00:00, 12.93it/s]\n"
     ]
    },
    {
     "name": "stdout",
     "output_type": "stream",
     "text": [
      "Epoch 13 Loss: 2.2788806476524304, Accuracy:0.326\n"
     ]
    },
    {
     "name": "stderr",
     "output_type": "stream",
     "text": [
      "100%|██████████| 79/79 [00:06<00:00, 12.89it/s]\n"
     ]
    },
    {
     "name": "stdout",
     "output_type": "stream",
     "text": [
      "Epoch 14 Loss: 2.2686280824498084, Accuracy:0.326\n"
     ]
    },
    {
     "name": "stderr",
     "output_type": "stream",
     "text": [
      "100%|██████████| 79/79 [00:06<00:00, 12.82it/s]\n"
     ]
    },
    {
     "name": "stdout",
     "output_type": "stream",
     "text": [
      "Epoch 15 Loss: 2.2626191884195266, Accuracy:0.323\n"
     ]
    },
    {
     "name": "stderr",
     "output_type": "stream",
     "text": [
      "100%|██████████| 79/79 [00:06<00:00, 12.88it/s]\n"
     ]
    },
    {
     "name": "stdout",
     "output_type": "stream",
     "text": [
      "Epoch 16 Loss: 2.2480210618655057, Accuracy:0.323\n"
     ]
    },
    {
     "name": "stderr",
     "output_type": "stream",
     "text": [
      "100%|██████████| 79/79 [00:06<00:00, 12.81it/s]\n"
     ]
    },
    {
     "name": "stdout",
     "output_type": "stream",
     "text": [
      "Epoch 17 Loss: 2.244094083024461, Accuracy:0.325\n"
     ]
    },
    {
     "name": "stderr",
     "output_type": "stream",
     "text": [
      "100%|██████████| 79/79 [00:06<00:00, 12.37it/s]\n"
     ]
    },
    {
     "name": "stdout",
     "output_type": "stream",
     "text": [
      "Epoch 18 Loss: 2.2477380409830268, Accuracy:0.32\n"
     ]
    },
    {
     "name": "stderr",
     "output_type": "stream",
     "text": [
      "100%|██████████| 79/79 [00:06<00:00, 12.67it/s]\n"
     ]
    },
    {
     "name": "stdout",
     "output_type": "stream",
     "text": [
      "Epoch 19 Loss: 2.249307760921542, Accuracy:0.324\n"
     ]
    },
    {
     "name": "stderr",
     "output_type": "stream",
     "text": [
      "100%|██████████| 79/79 [00:06<00:00, 12.91it/s]\n"
     ]
    },
    {
     "name": "stdout",
     "output_type": "stream",
     "text": [
      "Epoch 20 Loss: 2.2436975784235567, Accuracy:0.318\n"
     ]
    },
    {
     "name": "stderr",
     "output_type": "stream",
     "text": [
      "100%|██████████| 79/79 [00:06<00:00, 12.90it/s]\n"
     ]
    },
    {
     "name": "stdout",
     "output_type": "stream",
     "text": [
      "Epoch 21 Loss: 2.24659178963932, Accuracy:0.321\n"
     ]
    },
    {
     "name": "stderr",
     "output_type": "stream",
     "text": [
      "100%|██████████| 79/79 [00:06<00:00, 12.93it/s]\n"
     ]
    },
    {
     "name": "stdout",
     "output_type": "stream",
     "text": [
      "Epoch 22 Loss: 2.231244802773384, Accuracy:0.323\n"
     ]
    },
    {
     "name": "stderr",
     "output_type": "stream",
     "text": [
      "100%|██████████| 79/79 [00:06<00:00, 12.56it/s]\n"
     ]
    },
    {
     "name": "stdout",
     "output_type": "stream",
     "text": [
      "Epoch 23 Loss: 2.2218704565859793, Accuracy:0.318\n"
     ]
    },
    {
     "name": "stderr",
     "output_type": "stream",
     "text": [
      "100%|██████████| 79/79 [00:06<00:00, 12.04it/s]"
     ]
    },
    {
     "name": "stdout",
     "output_type": "stream",
     "text": [
      "Epoch 24 Loss: 2.222063159006046, Accuracy:0.321\n",
      "Best accuracy is 0.33\n"
     ]
    },
    {
     "name": "stderr",
     "output_type": "stream",
     "text": [
      "\n"
     ]
    }
   ]
  },
  {
   "cell_type": "markdown",
   "metadata": {
    "id": "D4tIFR5bwZFi",
    "pycharm": {
     "name": "#%% md\n"
    }
   },
   "source": [
    "# Check model on test dataset\n",
    "\n",
    "You must get accuracy above 0.35\n"
   ]
  },
  {
   "cell_type": "code",
   "metadata": {
    "id": "MM0pWYJlwibm",
    "pycharm": {
     "name": "#%%\n"
    }
   },
   "source": [
    "test_dataset = datasets.CIFAR10('/datasets',\n",
    "                                train=False,\n",
    "                                transform=transform,  # Transforms stay the same\n",
    "                                download=True)\n",
    "\n",
    "test_loader = DataLoader(test_dataset, batch_size=batch_size)\n",
    "\n",
    "accuracy = validate(model, test_loader)\n",
    "print(f\"Accuracy on test:{accuracy}\")\n"
   ],
   "execution_count": 63,
   "outputs": [
    {
     "name": "stdout",
     "output_type": "stream",
     "text": [
      "Files already downloaded and verified\n",
      "Accuracy on test:0.374\n"
     ]
    }
   ]
  },
  {
   "cell_type": "markdown",
   "metadata": {
    "id": "ZsImxpggG8bH",
    "pycharm": {
     "name": "#%% md\n"
    }
   },
   "source": [
    "# Place for brief conclusion\n",
    "Feel free to describe troubles here.\n",
    "\n",
    "**Вывод**:\n",
    "Реализовал SVM классификатор с помощью 2х циклов, 1 цикла, и главное - без циклов\n",
    "Реализовал bias trick\n",
    "Добавил L2-регуляризацию\n",
    "Попробовал нормализовать данные (потом закомментировал трансформер). Обучение стало дольше (видимо операции вблизи нуля) и пришлось заново подбирать гиперпараметры\n",
    "\n",
    "Не стал делать Кросс-Энтропию так как не очень понял, как это работает\n",
    "Не сделал кросс-валидацию, хоть и начинал, так как обучение выходило супер-долгим\n"
   ]
  },
  {
   "cell_type": "markdown",
   "metadata": {
    "id": "lJ13OmfCEb1w",
    "pycharm": {
     "name": "#%% md\n"
    }
   },
   "source": [
    "# Ideas for extra work\n",
    "\n",
    "- Implenment CrossEntropyLoss function -\n",
    "- Implement bias trick +\n",
    "- Add regularization to SVM loss +\n",
    "- Find best learning rate and regularization strength using Cross-Validation -\n",
    "- Normalize data +\n",
    "\n",
    "\n"
   ]
  },
  {
   "cell_type": "code",
   "execution_count": null,
   "outputs": [],
   "source": [],
   "metadata": {
    "collapsed": false,
    "pycharm": {
     "name": "#%%\n"
    }
   }
  }
 ]
}